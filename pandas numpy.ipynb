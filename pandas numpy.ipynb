{
 "cells": [
  {
   "cell_type": "markdown",
   "id": "d33c6a66",
   "metadata": {},
   "source": [
    "# Numpy"
   ]
  },
  {
   "cell_type": "markdown",
   "id": "0d68a5de",
   "metadata": {},
   "source": [
    "## libraries/modules\n"
   ]
  },
  {
   "cell_type": "code",
   "execution_count": 1,
   "id": "6d7507a0",
   "metadata": {},
   "outputs": [
    {
     "name": "stdout",
     "output_type": "stream",
     "text": [
      "Requirement already satisfied: numpy in c:\\users\\odunayo\\anaconda3\\lib\\site-packages (1.20.3)\n"
     ]
    }
   ],
   "source": [
    "!pip install numpy"
   ]
  },
  {
   "cell_type": "markdown",
   "id": "631e32eb",
   "metadata": {},
   "source": [
    "### importing numpy library"
   ]
  },
  {
   "cell_type": "code",
   "execution_count": 2,
   "id": "a971a553",
   "metadata": {},
   "outputs": [],
   "source": [
    "import numpy"
   ]
  },
  {
   "cell_type": "code",
   "execution_count": 3,
   "id": "4a838813",
   "metadata": {},
   "outputs": [],
   "source": [
    "import numpy as np"
   ]
  },
  {
   "cell_type": "markdown",
   "id": "16801596",
   "metadata": {},
   "source": [
    "## creating a numpy array"
   ]
  },
  {
   "cell_type": "code",
   "execution_count": 4,
   "id": "ef0d2f79",
   "metadata": {},
   "outputs": [],
   "source": [
    "a1 = np.array([1,3,4,6])"
   ]
  },
  {
   "cell_type": "code",
   "execution_count": 5,
   "id": "e8c74694",
   "metadata": {},
   "outputs": [
    {
     "data": {
      "text/plain": [
       "array([1, 3, 4, 6])"
      ]
     },
     "execution_count": 5,
     "metadata": {},
     "output_type": "execute_result"
    }
   ],
   "source": [
    "a1"
   ]
  },
  {
   "cell_type": "markdown",
   "id": "0ce0ce06",
   "metadata": {},
   "source": [
    "# Installing Pandas"
   ]
  },
  {
   "cell_type": "code",
   "execution_count": 6,
   "id": "9005ab9f",
   "metadata": {},
   "outputs": [
    {
     "name": "stdout",
     "output_type": "stream",
     "text": [
      "Requirement already satisfied: pandas in c:\\users\\odunayo\\anaconda3\\lib\\site-packages (1.3.4)\n",
      "Requirement already satisfied: numpy>=1.17.3 in c:\\users\\odunayo\\anaconda3\\lib\\site-packages (from pandas) (1.20.3)\n",
      "Requirement already satisfied: pytz>=2017.3 in c:\\users\\odunayo\\anaconda3\\lib\\site-packages (from pandas) (2021.3)\n",
      "Requirement already satisfied: python-dateutil>=2.7.3 in c:\\users\\odunayo\\anaconda3\\lib\\site-packages (from pandas) (2.8.2)\n",
      "Requirement already satisfied: six>=1.5 in c:\\users\\odunayo\\anaconda3\\lib\\site-packages (from python-dateutil>=2.7.3->pandas) (1.16.0)\n"
     ]
    }
   ],
   "source": [
    "!pip install pandas"
   ]
  },
  {
   "cell_type": "markdown",
   "id": "eb753289",
   "metadata": {},
   "source": [
    "## importing pandas library/module"
   ]
  },
  {
   "cell_type": "code",
   "execution_count": 7,
   "id": "b22ad369",
   "metadata": {},
   "outputs": [],
   "source": [
    "import pandas as pd"
   ]
  },
  {
   "cell_type": "code",
   "execution_count": 16,
   "id": "16c59948",
   "metadata": {},
   "outputs": [
    {
     "data": {
      "text/html": [
       "<div>\n",
       "<style scoped>\n",
       "    .dataframe tbody tr th:only-of-type {\n",
       "        vertical-align: middle;\n",
       "    }\n",
       "\n",
       "    .dataframe tbody tr th {\n",
       "        vertical-align: top;\n",
       "    }\n",
       "\n",
       "    .dataframe thead th {\n",
       "        text-align: right;\n",
       "    }\n",
       "</style>\n",
       "<table border=\"1\" class=\"dataframe\">\n",
       "  <thead>\n",
       "    <tr style=\"text-align: right;\">\n",
       "      <th></th>\n",
       "      <th>Customer ID</th>\n",
       "      <th>Order ID</th>\n",
       "      <th>Date</th>\n",
       "      <th>Product</th>\n",
       "      <th>Quantity</th>\n",
       "      <th>UnitPrice</th>\n",
       "    </tr>\n",
       "  </thead>\n",
       "  <tbody>\n",
       "    <tr>\n",
       "      <th>0</th>\n",
       "      <td>3</td>\n",
       "      <td>266868</td>\n",
       "      <td>2021-09-01</td>\n",
       "      <td>Noodles</td>\n",
       "      <td>193</td>\n",
       "      <td>100</td>\n",
       "    </tr>\n",
       "    <tr>\n",
       "      <th>1</th>\n",
       "      <td>1</td>\n",
       "      <td>140794</td>\n",
       "      <td>2021-12-01</td>\n",
       "      <td>Toothpaste</td>\n",
       "      <td>52</td>\n",
       "      <td>500</td>\n",
       "    </tr>\n",
       "    <tr>\n",
       "      <th>2</th>\n",
       "      <td>3</td>\n",
       "      <td>684759</td>\n",
       "      <td>2021-03-01</td>\n",
       "      <td>Deodorant</td>\n",
       "      <td>121</td>\n",
       "      <td>180</td>\n",
       "    </tr>\n",
       "    <tr>\n",
       "      <th>3</th>\n",
       "      <td>3</td>\n",
       "      <td>640447</td>\n",
       "      <td>2021-01-01</td>\n",
       "      <td>Noodles</td>\n",
       "      <td>87</td>\n",
       "      <td>100</td>\n",
       "    </tr>\n",
       "    <tr>\n",
       "      <th>4</th>\n",
       "      <td>5</td>\n",
       "      <td>898637</td>\n",
       "      <td>2021-12-01</td>\n",
       "      <td>Soft Drinks</td>\n",
       "      <td>71</td>\n",
       "      <td>100</td>\n",
       "    </tr>\n",
       "    <tr>\n",
       "      <th>...</th>\n",
       "      <td>...</td>\n",
       "      <td>...</td>\n",
       "      <td>...</td>\n",
       "      <td>...</td>\n",
       "      <td>...</td>\n",
       "      <td>...</td>\n",
       "    </tr>\n",
       "    <tr>\n",
       "      <th>695</th>\n",
       "      <td>3</td>\n",
       "      <td>853295</td>\n",
       "      <td>2021-10-01</td>\n",
       "      <td>Noodles</td>\n",
       "      <td>291</td>\n",
       "      <td>100</td>\n",
       "    </tr>\n",
       "    <tr>\n",
       "      <th>696</th>\n",
       "      <td>2</td>\n",
       "      <td>253981</td>\n",
       "      <td>2021-12-01</td>\n",
       "      <td>Toothpaste</td>\n",
       "      <td>57</td>\n",
       "      <td>500</td>\n",
       "    </tr>\n",
       "    <tr>\n",
       "      <th>697</th>\n",
       "      <td>5</td>\n",
       "      <td>208456</td>\n",
       "      <td>2020-09-01</td>\n",
       "      <td>Toothpaste</td>\n",
       "      <td>222</td>\n",
       "      <td>500</td>\n",
       "    </tr>\n",
       "    <tr>\n",
       "      <th>698</th>\n",
       "      <td>3</td>\n",
       "      <td>727940</td>\n",
       "      <td>2020-09-01</td>\n",
       "      <td>Coffee</td>\n",
       "      <td>66</td>\n",
       "      <td>60</td>\n",
       "    </tr>\n",
       "    <tr>\n",
       "      <th>699</th>\n",
       "      <td>4</td>\n",
       "      <td>414628</td>\n",
       "      <td>2021-10-01</td>\n",
       "      <td>Coffee</td>\n",
       "      <td>201</td>\n",
       "      <td>60</td>\n",
       "    </tr>\n",
       "  </tbody>\n",
       "</table>\n",
       "<p>700 rows × 6 columns</p>\n",
       "</div>"
      ],
      "text/plain": [
       "     Customer ID  Order ID       Date      Product  Quantity  UnitPrice\n",
       "0              3    266868 2021-09-01      Noodles       193        100\n",
       "1              1    140794 2021-12-01   Toothpaste        52        500\n",
       "2              3    684759 2021-03-01    Deodorant       121        180\n",
       "3              3    640447 2021-01-01      Noodles        87        100\n",
       "4              5    898637 2021-12-01  Soft Drinks        71        100\n",
       "..           ...       ...        ...          ...       ...        ...\n",
       "695            3    853295 2021-10-01      Noodles       291        100\n",
       "696            2    253981 2021-12-01   Toothpaste        57        500\n",
       "697            5    208456 2020-09-01   Toothpaste       222        500\n",
       "698            3    727940 2020-09-01       Coffee        66         60\n",
       "699            4    414628 2021-10-01       Coffee       201         60\n",
       "\n",
       "[700 rows x 6 columns]"
      ]
     },
     "execution_count": 16,
     "metadata": {},
     "output_type": "execute_result"
    }
   ],
   "source": [
    "df2 = pd.read_excel ('Orders Data.xlsx')\n",
    "df2"
   ]
  },
  {
   "cell_type": "code",
   "execution_count": null,
   "id": "ea8b70f3",
   "metadata": {},
   "outputs": [],
   "source": []
  }
 ],
 "metadata": {
  "kernelspec": {
   "display_name": "Python 3 (ipykernel)",
   "language": "python",
   "name": "python3"
  },
  "language_info": {
   "codemirror_mode": {
    "name": "ipython",
    "version": 3
   },
   "file_extension": ".py",
   "mimetype": "text/x-python",
   "name": "python",
   "nbconvert_exporter": "python",
   "pygments_lexer": "ipython3",
   "version": "3.9.7"
  }
 },
 "nbformat": 4,
 "nbformat_minor": 5
}
