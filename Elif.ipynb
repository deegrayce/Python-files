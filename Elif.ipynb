{
 "cells": [
  {
   "cell_type": "markdown",
   "id": "7ae9486d",
   "metadata": {},
   "source": [
    "# Conditional statement\n",
    "```python \n",
    "if test _expression:\n",
    "body of if\n",
    "```"
   ]
  },
  {
   "cell_type": "code",
   "execution_count": 3,
   "id": "e017aebc",
   "metadata": {},
   "outputs": [],
   "source": [
    "sales = 5000"
   ]
  },
  {
   "cell_type": "code",
   "execution_count": 6,
   "id": "2a3b2cfc",
   "metadata": {},
   "outputs": [
    {
     "name": "stdout",
     "output_type": "stream",
     "text": [
      "bad\n"
     ]
    }
   ],
   "source": [
    "if sales > 20000:\n",
    "    print ('good')\n",
    "else:\n",
    "    print('bad')"
   ]
  },
  {
   "cell_type": "code",
   "execution_count": 9,
   "id": "baa63c72",
   "metadata": {},
   "outputs": [],
   "source": [
    "\n",
    "score = 77\n",
    "gender = 'female'\n",
    "\n",
    "\n",
    "\n"
   ]
  },
  {
   "cell_type": "code",
   "execution_count": 10,
   "id": "a76c8ff9",
   "metadata": {},
   "outputs": [
    {
     "name": "stdout",
     "output_type": "stream",
     "text": [
      "f scholar\n"
     ]
    }
   ],
   "source": [
    "if (score > 70 and gender == 'female'):\n",
    "    print('f scholar')\n",
    "else:\n",
    "    print('others')"
   ]
  },
  {
   "cell_type": "code",
   "execution_count": 11,
   "id": "9e684dc7",
   "metadata": {},
   "outputs": [],
   "source": [
    "salary = 180000"
   ]
  },
  {
   "cell_type": "code",
   "execution_count": 12,
   "id": "c214532d",
   "metadata": {},
   "outputs": [],
   "source": [
    "#> 200,000 executive\n",
    "#>100,000 but less than 200,000 - paid well\n",
    "#< 100,000 not paid well"
   ]
  },
  {
   "cell_type": "code",
   "execution_count": 15,
   "id": "7210dd3e",
   "metadata": {},
   "outputs": [
    {
     "name": "stdout",
     "output_type": "stream",
     "text": [
      " not paid well\n"
     ]
    }
   ],
   "source": [
    "salary = 50000\n",
    "\n",
    "if salary > 200000:\n",
    "    print('executive')\n",
    "elif salary > 100000 and salary < 200000:\n",
    "    print('paid well')\n",
    "elif salary < 100000:\n",
    "    print(' not paid well')\n",
    "else:\n",
    "    print ('mot paid')\n",
    "        "
   ]
  },
  {
   "cell_type": "code",
   "execution_count": 16,
   "id": "af9d1170",
   "metadata": {},
   "outputs": [],
   "source": [
    "# score > 80 - A1\n",
    "# score 70 - 79 - b2\n",
    "# score 60 - 69 - b3\n",
    "# score 50 - 59 - c4\n",
    "# score 40 - 49 - c6\n",
    "# score 30 - 39 - d7\n",
    "# score 20 - 29 - e8\n",
    "# score < 20 - f9"
   ]
  },
  {
   "cell_type": "code",
   "execution_count": 17,
   "id": "65624335",
   "metadata": {},
   "outputs": [
    {
     "name": "stdout",
     "output_type": "stream",
     "text": [
      "C4\n"
     ]
    }
   ],
   "source": [
    "score = 56\n",
    "\n",
    "if score > 80:\n",
    "    print('A1')\n",
    "elif score >= 70 and score <= 79:\n",
    "    print('B2')\n",
    "elif score >= 60 and score <= 69:\n",
    "    print('B3')\n",
    "elif score >= 50 and score <= 59:\n",
    "    print('C4')\n",
    "elif score >= 40 and score <= 49:\n",
    "    print('C6')\n",
    "elif score >= 30 and score <= 39:\n",
    "    print('D7')\n",
    "elif score >= 20 and score <= 29:\n",
    "    print('E8')\n",
    "elif score < 20:\n",
    "    print('F9')\n",
    "    \n",
    "    "
   ]
  },
  {
   "cell_type": "code",
   "execution_count": null,
   "id": "a3689742",
   "metadata": {},
   "outputs": [],
   "source": []
  }
 ],
 "metadata": {
  "kernelspec": {
   "display_name": "Python 3 (ipykernel)",
   "language": "python",
   "name": "python3"
  },
  "language_info": {
   "codemirror_mode": {
    "name": "ipython",
    "version": 3
   },
   "file_extension": ".py",
   "mimetype": "text/x-python",
   "name": "python",
   "nbconvert_exporter": "python",
   "pygments_lexer": "ipython3",
   "version": "3.9.7"
  }
 },
 "nbformat": 4,
 "nbformat_minor": 5
}
