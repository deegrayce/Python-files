{
 "cells": [
  {
   "cell_type": "markdown",
   "metadata": {},
   "source": [
    "# Loop on different data type"
   ]
  },
  {
   "cell_type": "markdown",
   "metadata": {},
   "source": [
    "## loop on `string`"
   ]
  },
  {
   "cell_type": "code",
   "execution_count": 7,
   "metadata": {},
   "outputs": [
    {
     "name": "stdout",
     "output_type": "stream",
     "text": [
      "b\n",
      "a\n",
      "n\n",
      "a\n",
      "n\n",
      "a\n"
     ]
    }
   ],
   "source": [
    "fruits = 'banana'\n",
    "\n",
    "for fruit in fruits:\n",
    "    print(fruit)"
   ]
  },
  {
   "cell_type": "markdown",
   "metadata": {},
   "source": [
    "## loop on `list`"
   ]
  },
  {
   "cell_type": "code",
   "execution_count": 4,
   "metadata": {},
   "outputs": [
    {
     "name": "stdout",
     "output_type": "stream",
     "text": [
      "apple\n",
      "banana\n",
      "orange\n",
      "banana\n",
      "pawpaw\n"
     ]
    }
   ],
   "source": [
    "fruits_list = ['apple', 'banana', 'orange', 'banana', 'pawpaw']\n",
    "          \n",
    "for fruit in fruits_list:\n",
    "    print(fruit)"
   ]
  },
  {
   "cell_type": "markdown",
   "metadata": {},
   "source": [
    "## loop on `tuple`"
   ]
  },
  {
   "cell_type": "code",
   "execution_count": 5,
   "metadata": {},
   "outputs": [
    {
     "name": "stdout",
     "output_type": "stream",
     "text": [
      "apple\n",
      "banana\n",
      "orange\n",
      "banana\n",
      "pawpaw\n"
     ]
    }
   ],
   "source": [
    "fruits_tuple = ('apple', 'banana', 'orange', 'banana', 'pawpaw')\n",
    "          \n",
    "for fruit in fruits_tuple:\n",
    "    print(fruit)"
   ]
  },
  {
   "cell_type": "markdown",
   "metadata": {},
   "source": [
    "## loop on `set`"
   ]
  },
  {
   "cell_type": "code",
   "execution_count": 8,
   "metadata": {},
   "outputs": [
    {
     "name": "stdout",
     "output_type": "stream",
     "text": [
      "banana\n",
      "orange\n",
      "pawpaw\n",
      "apple\n"
     ]
    }
   ],
   "source": [
    "fruits_set = {'apple', 'banana', 'orange', 'banana', 'pawpaw'}\n",
    "          \n",
    "for fruit in fruits_set:\n",
    "    print(fruit)"
   ]
  },
  {
   "cell_type": "markdown",
   "metadata": {},
   "source": [
    "## loop on `dictionary`"
   ]
  },
  {
   "cell_type": "code",
   "execution_count": 12,
   "metadata": {},
   "outputs": [
    {
     "name": "stdout",
     "output_type": "stream",
     "text": [
      "fname\n",
      "lname\n",
      "age\n",
      "is_married\n",
      "state\n"
     ]
    }
   ],
   "source": [
    "persons = {'fname':'Kamal', \n",
    "          'lname':'Monsur', \n",
    "          'age': 29,\n",
    "         'is_married': True,\n",
    "         'state': 'Lagos'}\n",
    "\n",
    "for person in persons:\n",
    "    print(person)"
   ]
  },
  {
   "cell_type": "code",
   "execution_count": 24,
   "metadata": {},
   "outputs": [
    {
     "name": "stdout",
     "output_type": "stream",
     "text": [
      "Kamal\n",
      "Monsur\n",
      "29\n",
      "True\n",
      "Lagos\n"
     ]
    }
   ],
   "source": [
    "for ddd in persons:\n",
    "    print(persons[ddd])"
   ]
  },
  {
   "cell_type": "code",
   "execution_count": 26,
   "metadata": {},
   "outputs": [
    {
     "data": {
      "text/plain": [
       "dict_keys(['fname', 'lname', 'age', 'is_married', 'state'])"
      ]
     },
     "execution_count": 26,
     "metadata": {},
     "output_type": "execute_result"
    }
   ],
   "source": [
    "persons.keys()"
   ]
  },
  {
   "cell_type": "code",
   "execution_count": 30,
   "metadata": {},
   "outputs": [
    {
     "name": "stdout",
     "output_type": "stream",
     "text": [
      "fname\n",
      "lname\n",
      "age\n",
      "is_married\n",
      "state\n"
     ]
    }
   ],
   "source": [
    "for key in persons.keys():\n",
    "    print(key)"
   ]
  },
  {
   "cell_type": "code",
   "execution_count": 29,
   "metadata": {},
   "outputs": [
    {
     "data": {
      "text/plain": [
       "dict_values(['Kamal', 'Monsur', 29, True, 'Lagos'])"
      ]
     },
     "execution_count": 29,
     "metadata": {},
     "output_type": "execute_result"
    }
   ],
   "source": [
    "persons.values()"
   ]
  },
  {
   "cell_type": "code",
   "execution_count": 31,
   "metadata": {},
   "outputs": [
    {
     "name": "stdout",
     "output_type": "stream",
     "text": [
      "Kamal\n",
      "Monsur\n",
      "29\n",
      "True\n",
      "Lagos\n"
     ]
    }
   ],
   "source": [
    "for value in persons.values():\n",
    "    print(value)"
   ]
  },
  {
   "cell_type": "code",
   "execution_count": 33,
   "metadata": {},
   "outputs": [
    {
     "data": {
      "text/plain": [
       "dict_items([('fname', 'Kamal'), ('lname', 'Monsur'), ('age', 29), ('is_married', True), ('state', 'Lagos')])"
      ]
     },
     "execution_count": 33,
     "metadata": {},
     "output_type": "execute_result"
    }
   ],
   "source": [
    "persons.items()"
   ]
  },
  {
   "cell_type": "code",
   "execution_count": 34,
   "metadata": {},
   "outputs": [
    {
     "name": "stdout",
     "output_type": "stream",
     "text": [
      "fname Kamal\n",
      "lname Monsur\n",
      "age 29\n",
      "is_married True\n",
      "state Lagos\n"
     ]
    }
   ],
   "source": [
    "for a, b in persons.items():\n",
    "    print(a, b)"
   ]
  },
  {
   "cell_type": "code",
   "execution_count": 35,
   "metadata": {},
   "outputs": [
    {
     "name": "stdout",
     "output_type": "stream",
     "text": [
      "fname Kamal\n",
      "lname Monsur\n",
      "age 29\n",
      "is_married True\n",
      "state Lagos\n"
     ]
    }
   ],
   "source": [
    "for key, value in persons.items():\n",
    "    print(key, value)"
   ]
  },
  {
   "cell_type": "code",
   "execution_count": 38,
   "metadata": {},
   "outputs": [
    {
     "name": "stdout",
     "output_type": "stream",
     "text": [
      "The fname is Kamal\n",
      "The lname is Monsur\n",
      "The age is 29\n",
      "The is_married is True\n",
      "The state is Lagos\n"
     ]
    }
   ],
   "source": [
    "for key, value in persons.items():\n",
    "    print(f'The {key} is {value}')"
   ]
  },
  {
   "cell_type": "code",
   "execution_count": null,
   "metadata": {},
   "outputs": [],
   "source": []
  }
 ],
 "metadata": {
  "kernelspec": {
   "display_name": "Python 3",
   "language": "python",
   "name": "python3"
  },
  "language_info": {
   "codemirror_mode": {
    "name": "ipython",
    "version": 3
   },
   "file_extension": ".py",
   "mimetype": "text/x-python",
   "name": "python",
   "nbconvert_exporter": "python",
   "pygments_lexer": "ipython3",
   "version": "3.7.6"
  }
 },
 "nbformat": 4,
 "nbformat_minor": 4
}
